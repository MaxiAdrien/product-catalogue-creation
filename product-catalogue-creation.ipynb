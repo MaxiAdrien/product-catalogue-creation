{
 "cells": [
  {
   "cell_type": "markdown",
   "metadata": {},
   "source": [
    "## Set up"
   ]
  },
  {
   "cell_type": "code",
   "execution_count": 29,
   "metadata": {
    "execution": {
     "iopub.execute_input": "2025-06-10T19:29:13.603933Z",
     "iopub.status.busy": "2025-06-10T19:29:13.603621Z",
     "iopub.status.idle": "2025-06-10T19:29:13.736063Z",
     "shell.execute_reply": "2025-06-10T19:29:13.735013Z",
     "shell.execute_reply.started": "2025-06-10T19:29:13.603910Z"
    },
    "trusted": true
   },
   "outputs": [
    {
     "name": "stdout",
     "output_type": "stream",
     "text": [
      "Python 3.11.3\n"
     ]
    }
   ],
   "source": [
    "# Python version\n",
    "\n",
    "!python --version"
   ]
  },
  {
   "cell_type": "code",
   "execution_count": 30,
   "metadata": {
    "execution": {
     "iopub.execute_input": "2025-06-10T19:29:13.739288Z",
     "iopub.status.busy": "2025-06-10T19:29:13.738751Z",
     "iopub.status.idle": "2025-06-10T19:29:20.883204Z",
     "shell.execute_reply": "2025-06-10T19:29:20.882249Z",
     "shell.execute_reply.started": "2025-06-10T19:29:13.739248Z"
    },
    "trusted": true
   },
   "outputs": [
    {
     "name": "stdout",
     "output_type": "stream",
     "text": [
      "Requirement already satisfied: pandas==2.2.3 in ./.venv/lib/python3.11/site-packages (2.2.3)\n",
      "Requirement already satisfied: rapidfuzz==3.13.0 in ./.venv/lib/python3.11/site-packages (3.13.0)\n",
      "Requirement already satisfied: numpy>=1.23.2 in ./.venv/lib/python3.11/site-packages (from pandas==2.2.3) (2.3.0)\n",
      "Requirement already satisfied: python-dateutil>=2.8.2 in ./.venv/lib/python3.11/site-packages (from pandas==2.2.3) (2.9.0.post0)\n",
      "Requirement already satisfied: pytz>=2020.1 in ./.venv/lib/python3.11/site-packages (from pandas==2.2.3) (2025.2)\n",
      "Requirement already satisfied: tzdata>=2022.7 in ./.venv/lib/python3.11/site-packages (from pandas==2.2.3) (2025.2)\n",
      "Requirement already satisfied: six>=1.5 in ./.venv/lib/python3.11/site-packages (from python-dateutil>=2.8.2->pandas==2.2.3) (1.17.0)\n",
      "\n",
      "\u001b[1m[\u001b[0m\u001b[34;49mnotice\u001b[0m\u001b[1;39;49m]\u001b[0m\u001b[39;49m A new release of pip is available: \u001b[0m\u001b[31;49m23.2.1\u001b[0m\u001b[39;49m -> \u001b[0m\u001b[32;49m25.1.1\u001b[0m\n",
      "\u001b[1m[\u001b[0m\u001b[34;49mnotice\u001b[0m\u001b[1;39;49m]\u001b[0m\u001b[39;49m To update, run: \u001b[0m\u001b[32;49mpip install --upgrade pip\u001b[0m\n"
     ]
    }
   ],
   "source": [
    "# Install required packages\n",
    "\n",
    "!pip install pandas==2.2.3 rapidfuzz==3.13.0"
   ]
  },
  {
   "cell_type": "code",
   "execution_count": 31,
   "metadata": {
    "execution": {
     "iopub.execute_input": "2025-06-10T19:29:20.884853Z",
     "iopub.status.busy": "2025-06-10T19:29:20.884487Z",
     "iopub.status.idle": "2025-06-10T19:29:23.061369Z",
     "shell.execute_reply": "2025-06-10T19:29:23.060438Z",
     "shell.execute_reply.started": "2025-06-10T19:29:20.884792Z"
    },
    "trusted": true
   },
   "outputs": [],
   "source": [
    "# Imports\n",
    "\n",
    "import warnings\n",
    "import logging\n",
    "import pandas as pd\n",
    "from pathlib import Path\n",
    "from urllib.parse import urlparse\n",
    "from rapidfuzz import fuzz as rfuzz\n",
    "import time\n",
    "import os"
   ]
  },
  {
   "cell_type": "code",
   "execution_count": 32,
   "metadata": {
    "execution": {
     "iopub.execute_input": "2025-06-10T19:29:23.062783Z",
     "iopub.status.busy": "2025-06-10T19:29:23.062309Z",
     "iopub.status.idle": "2025-06-10T19:29:23.068668Z",
     "shell.execute_reply": "2025-06-10T19:29:23.067474Z",
     "shell.execute_reply.started": "2025-06-10T19:29:23.062758Z"
    },
    "trusted": true
   },
   "outputs": [],
   "source": [
    "# Set up logging\n",
    "\n",
    "logging.basicConfig(\n",
    "    level=logging.INFO,\n",
    "    format='%(asctime)s - %(levelname)s - %(message)s',\n",
    "    force=True,  # for logging to work in Notebooks\n",
    ")"
   ]
  },
  {
   "cell_type": "code",
   "execution_count": 33,
   "metadata": {
    "execution": {
     "iopub.execute_input": "2025-06-10T19:29:23.071602Z",
     "iopub.status.busy": "2025-06-10T19:29:23.071316Z",
     "iopub.status.idle": "2025-06-10T19:29:23.087861Z",
     "shell.execute_reply": "2025-06-10T19:29:23.086901Z",
     "shell.execute_reply.started": "2025-06-10T19:29:23.071578Z"
    },
    "trusted": true
   },
   "outputs": [],
   "source": [
    "# Ignore warnings\n",
    "\n",
    "warnings.filterwarnings('ignore', category=RuntimeWarning)"
   ]
  },
  {
   "cell_type": "code",
   "execution_count": 34,
   "metadata": {
    "execution": {
     "iopub.execute_input": "2025-06-10T19:29:23.089407Z",
     "iopub.status.busy": "2025-06-10T19:29:23.089128Z",
     "iopub.status.idle": "2025-06-10T19:29:23.104334Z",
     "shell.execute_reply": "2025-06-10T19:29:23.103336Z",
     "shell.execute_reply.started": "2025-06-10T19:29:23.089384Z"
    },
    "trusted": true
   },
   "outputs": [],
   "source": [
    "# Set minimum similarity scores to consider a pair of products as duplicates\n",
    "\n",
    "NAME_SCORE_THRESHOLD = 85.0\n",
    "URL_SCORE_THRESHOLD = 95.0"
   ]
  },
  {
   "cell_type": "markdown",
   "metadata": {},
   "source": [
    "## Data preparation"
   ]
  },
  {
   "cell_type": "code",
   "execution_count": 35,
   "metadata": {
    "execution": {
     "iopub.execute_input": "2025-06-10T19:29:23.105930Z",
     "iopub.status.busy": "2025-06-10T19:29:23.105590Z",
     "iopub.status.idle": "2025-06-10T19:29:27.378245Z",
     "shell.execute_reply": "2025-06-10T19:29:27.377218Z",
     "shell.execute_reply.started": "2025-06-10T19:29:23.105906Z"
    },
    "trusted": true
   },
   "outputs": [
    {
     "name": "stderr",
     "output_type": "stream",
     "text": [
      "2025-06-10 21:21:05,122 - INFO - Reading files...\n",
      "2025-06-10 21:21:06,730 - INFO - Read 2 files successfully.\n"
     ]
    }
   ],
   "source": [
    "# Read all csv files in input folder\n",
    "\n",
    "input_dir = Path('input')\n",
    "csv_files = list(input_dir.glob('*.csv'))\n",
    "\n",
    "logging.info('Reading files...')\n",
    "\n",
    "dfs = [pd.read_csv(file) for file in csv_files]\n",
    "\n",
    "logging.info(f'Read {len(dfs)} files successfully.')"
   ]
  },
  {
   "cell_type": "code",
   "execution_count": 36,
   "metadata": {
    "execution": {
     "iopub.execute_input": "2025-06-10T19:29:27.379466Z",
     "iopub.status.busy": "2025-06-10T19:29:27.379216Z",
     "iopub.status.idle": "2025-06-10T19:29:27.393624Z",
     "shell.execute_reply": "2025-06-10T19:29:27.392463Z",
     "shell.execute_reply.started": "2025-06-10T19:29:27.379445Z"
    },
    "trusted": true
   },
   "outputs": [],
   "source": [
    "# Standardise column names across all data frames\n",
    "\n",
    "for df in dfs:\n",
    "    \n",
    "    if 'product_name' not in df.columns:\n",
    "        df.rename(columns={'name': 'product_name'}, inplace=True)\n",
    "\n",
    "    if 'seller_website' not in df.columns:\n",
    "        df.rename(columns={'url': 'seller_website'}, inplace=True)\n",
    "\n",
    "    if 'product_category' not in df.columns:\n",
    "        df.rename(columns={'category': 'product_category'}, inplace=True)\n",
    "        df.rename(columns={'main_category': 'product_category'}, inplace=True)"
   ]
  },
  {
   "cell_type": "code",
   "execution_count": 37,
   "metadata": {
    "execution": {
     "iopub.execute_input": "2025-06-10T19:29:27.394924Z",
     "iopub.status.busy": "2025-06-10T19:29:27.394626Z",
     "iopub.status.idle": "2025-06-10T19:29:27.423670Z",
     "shell.execute_reply": "2025-06-10T19:29:27.422588Z",
     "shell.execute_reply.started": "2025-06-10T19:29:27.394888Z"
    },
    "trusted": true
   },
   "outputs": [],
   "source": [
    "# Drop unused columns\n",
    "\n",
    "columns_to_keep = ['product_name', 'seller_website', 'description', 'product_category']\n",
    "dfs = [df[columns_to_keep] for df in dfs]"
   ]
  },
  {
   "cell_type": "code",
   "execution_count": 38,
   "metadata": {
    "execution": {
     "iopub.execute_input": "2025-06-10T19:29:27.424916Z",
     "iopub.status.busy": "2025-06-10T19:29:27.424612Z",
     "iopub.status.idle": "2025-06-10T19:29:27.457907Z",
     "shell.execute_reply": "2025-06-10T19:29:27.456852Z",
     "shell.execute_reply.started": "2025-06-10T19:29:27.424874Z"
    },
    "trusted": true
   },
   "outputs": [],
   "source": [
    "# Concatenate all data frames into one\n",
    "\n",
    "df = pd.concat(dfs, ignore_index=True)"
   ]
  },
  {
   "cell_type": "code",
   "execution_count": 39,
   "metadata": {
    "execution": {
     "iopub.execute_input": "2025-06-10T19:29:27.459516Z",
     "iopub.status.busy": "2025-06-10T19:29:27.459103Z",
     "iopub.status.idle": "2025-06-10T19:29:27.473729Z",
     "shell.execute_reply": "2025-06-10T19:29:27.472703Z",
     "shell.execute_reply.started": "2025-06-10T19:29:27.459490Z"
    },
    "trusted": true
   },
   "outputs": [],
   "source": [
    "# Helper function to clean text\n",
    "\n",
    "def clean_text(series: pd.Series) -> pd.Series:\n",
    "    \"\"\"\n",
    "    Lowercase text, remove leading/trailing and multiple whitespaces, and remove specific Unicode control characters.\n",
    "    \"\"\"\n",
    "    unicode_chars = r'[\\u202a-\\u202e\\u200b-\\u200f]'\n",
    "    return (series\n",
    "            .str.lower()\n",
    "            .str.strip()\n",
    "            .str.replace(r'\\s+', ' ', regex=True)\n",
    "            .str.replace(unicode_chars, '', regex=True))"
   ]
  },
  {
   "cell_type": "code",
   "execution_count": 40,
   "metadata": {
    "execution": {
     "iopub.execute_input": "2025-06-10T19:29:27.475017Z",
     "iopub.status.busy": "2025-06-10T19:29:27.474702Z",
     "iopub.status.idle": "2025-06-10T19:29:27.496520Z",
     "shell.execute_reply": "2025-06-10T19:29:27.495472Z",
     "shell.execute_reply.started": "2025-06-10T19:29:27.474997Z"
    },
    "trusted": true
   },
   "outputs": [],
   "source": [
    "# Helper function to clean website URLs\n",
    "\n",
    "def normalize_url(url: str) -> str:\n",
    "    \"\"\"\n",
    "    Normalize URL:\n",
    "    - Remove URL scheme (http:// or https://)\n",
    "    - Remove 'www.' if present\n",
    "    - Lowercase domain\n",
    "    - Remove trailing slashes (/)\n",
    "    \"\"\"\n",
    "    if pd.isna(url):\n",
    "        return url\n",
    "        \n",
    "    parsed = urlparse(url)\n",
    "    \n",
    "    netloc = parsed.netloc.lower()\n",
    "    if netloc.startswith('www.'):\n",
    "        netloc = netloc[4:]\n",
    "    \n",
    "    path = parsed.path.rstrip('/')\n",
    "    \n",
    "    return netloc + path"
   ]
  },
  {
   "cell_type": "code",
   "execution_count": 41,
   "metadata": {
    "execution": {
     "iopub.execute_input": "2025-06-10T19:29:27.498057Z",
     "iopub.status.busy": "2025-06-10T19:29:27.497739Z",
     "iopub.status.idle": "2025-06-10T19:29:30.497692Z",
     "shell.execute_reply": "2025-06-10T19:29:30.496785Z",
     "shell.execute_reply.started": "2025-06-10T19:29:27.498032Z"
    },
    "trusted": true
   },
   "outputs": [],
   "source": [
    "# Apply cleaning functions\n",
    "\n",
    "df['product_name_c'] = clean_text(df['product_name'])\n",
    "df['seller_website_c'] = df['seller_website'].apply(normalize_url)\n",
    "df['description_c'] = clean_text(df['description'])\n",
    "df['product_category_c'] = clean_text(df['product_category'])"
   ]
  },
  {
   "cell_type": "code",
   "execution_count": 42,
   "metadata": {
    "execution": {
     "iopub.execute_input": "2025-06-10T19:29:30.501054Z",
     "iopub.status.busy": "2025-06-10T19:29:30.500783Z",
     "iopub.status.idle": "2025-06-10T19:29:30.588247Z",
     "shell.execute_reply": "2025-06-10T19:29:30.587436Z",
     "shell.execute_reply.started": "2025-06-10T19:29:30.501033Z"
    },
    "trusted": true
   },
   "outputs": [
    {
     "name": "stderr",
     "output_type": "stream",
     "text": [
      "2025-06-10 21:21:09,267 - INFO - Dropped 10977 exact duplicates based on column: product_name_c\n",
      "2025-06-10 21:21:09,306 - INFO - Dropped 19223 exact duplicates based on column: seller_website_c\n"
     ]
    }
   ],
   "source": [
    "# Remove exact duplicates using product name and seller website separately\n",
    "\n",
    "for col in ['product_name_c', 'seller_website_c']:\n",
    "    \n",
    "    before = len(df)\n",
    "    df = df[(~df.duplicated(subset=[col])) | (df[col].isnull())]  # ensure missing values don't get dropped\n",
    "    after = len(df)\n",
    "    \n",
    "    logging.info(f'Dropped {before - after} exact duplicates based on column: {col}')"
   ]
  },
  {
   "cell_type": "code",
   "execution_count": 43,
   "metadata": {
    "execution": {
     "iopub.execute_input": "2025-06-10T19:29:30.589475Z",
     "iopub.status.busy": "2025-06-10T19:29:30.589203Z",
     "iopub.status.idle": "2025-06-10T19:29:30.703324Z",
     "shell.execute_reply": "2025-06-10T19:29:30.702353Z",
     "shell.execute_reply.started": "2025-06-10T19:29:30.589452Z"
    },
    "trusted": true
   },
   "outputs": [],
   "source": [
    "# Sort alphabetically based on product name\n",
    "\n",
    "df.sort_values(by='product_name_c', ignore_index=True, inplace=True)"
   ]
  },
  {
   "cell_type": "code",
   "execution_count": 44,
   "metadata": {
    "execution": {
     "iopub.execute_input": "2025-06-10T19:29:30.705181Z",
     "iopub.status.busy": "2025-06-10T19:29:30.704474Z",
     "iopub.status.idle": "2025-06-10T19:29:30.746162Z",
     "shell.execute_reply": "2025-06-10T19:29:30.745169Z",
     "shell.execute_reply.started": "2025-06-10T19:29:30.705148Z"
    },
    "trusted": true
   },
   "outputs": [
    {
     "data": {
      "text/html": [
       "<div>\n",
       "<style scoped>\n",
       "    .dataframe tbody tr th:only-of-type {\n",
       "        vertical-align: middle;\n",
       "    }\n",
       "\n",
       "    .dataframe tbody tr th {\n",
       "        vertical-align: top;\n",
       "    }\n",
       "\n",
       "    .dataframe thead th {\n",
       "        text-align: right;\n",
       "    }\n",
       "</style>\n",
       "<table border=\"1\" class=\"dataframe\">\n",
       "  <thead>\n",
       "    <tr style=\"text-align: right;\">\n",
       "      <th></th>\n",
       "      <th>product_name</th>\n",
       "      <th>seller_website</th>\n",
       "      <th>description</th>\n",
       "      <th>product_category</th>\n",
       "      <th>product_name_c</th>\n",
       "      <th>seller_website_c</th>\n",
       "      <th>description_c</th>\n",
       "      <th>product_category_c</th>\n",
       "    </tr>\n",
       "  </thead>\n",
       "  <tbody>\n",
       "    <tr>\n",
       "      <th>0</th>\n",
       "      <td>#Back (HashBack)</td>\n",
       "      <td>https://hashback.app/</td>\n",
       "      <td>#Back for record your screen, share it with yo...</td>\n",
       "      <td>Screen and Video Capture Software</td>\n",
       "      <td>#back (hashback)</td>\n",
       "      <td>hashback.app</td>\n",
       "      <td>#back for record your screen, share it with yo...</td>\n",
       "      <td>screen and video capture software</td>\n",
       "    </tr>\n",
       "    <tr>\n",
       "      <th>1</th>\n",
       "      <td>#DIESE</td>\n",
       "      <td>https://diesesoftware.com/</td>\n",
       "      <td>#DIESE is accessible from any web browser, and...</td>\n",
       "      <td>Performing Arts Software</td>\n",
       "      <td>#diese</td>\n",
       "      <td>diesesoftware.com</td>\n",
       "      <td>#diese is accessible from any web browser, and...</td>\n",
       "      <td>performing arts software</td>\n",
       "    </tr>\n",
       "    <tr>\n",
       "      <th>2</th>\n",
       "      <td>#paid</td>\n",
       "      <td>https://www.hashtagpaid.com/</td>\n",
       "      <td>#paid is a creator marketplace that connects v...</td>\n",
       "      <td>Social Media Marketing Software</td>\n",
       "      <td>#paid</td>\n",
       "      <td>hashtagpaid.com</td>\n",
       "      <td>#paid is a creator marketplace that connects v...</td>\n",
       "      <td>social media marketing software</td>\n",
       "    </tr>\n",
       "    <tr>\n",
       "      <th>3</th>\n",
       "      <td>#stratapp</td>\n",
       "      <td>https://stratappsaas.com/</td>\n",
       "      <td>#stratapp is a simple management app where ind...</td>\n",
       "      <td>Objectives and Key Results (OKR) Software</td>\n",
       "      <td>#stratapp</td>\n",
       "      <td>stratappsaas.com</td>\n",
       "      <td>#stratapp is a simple management app where ind...</td>\n",
       "      <td>objectives and key results (okr) software</td>\n",
       "    </tr>\n",
       "    <tr>\n",
       "      <th>4</th>\n",
       "      <td>&amp;facts</td>\n",
       "      <td>https://www.andfacts.com/</td>\n",
       "      <td>&amp;facts gives brands access to market insights ...</td>\n",
       "      <td>Market Intelligence Software</td>\n",
       "      <td>&amp;facts</td>\n",
       "      <td>andfacts.com</td>\n",
       "      <td>&amp;facts gives brands access to market insights ...</td>\n",
       "      <td>market intelligence software</td>\n",
       "    </tr>\n",
       "  </tbody>\n",
       "</table>\n",
       "</div>"
      ],
      "text/plain": [
       "       product_name                seller_website  \\\n",
       "0  #Back (HashBack)         https://hashback.app/   \n",
       "1            #DIESE    https://diesesoftware.com/   \n",
       "2             #paid  https://www.hashtagpaid.com/   \n",
       "3         #stratapp     https://stratappsaas.com/   \n",
       "4            &facts     https://www.andfacts.com/   \n",
       "\n",
       "                                         description  \\\n",
       "0  #Back for record your screen, share it with yo...   \n",
       "1  #DIESE is accessible from any web browser, and...   \n",
       "2  #paid is a creator marketplace that connects v...   \n",
       "3  #stratapp is a simple management app where ind...   \n",
       "4  &facts gives brands access to market insights ...   \n",
       "\n",
       "                            product_category    product_name_c  \\\n",
       "0          Screen and Video Capture Software  #back (hashback)   \n",
       "1                   Performing Arts Software            #diese   \n",
       "2            Social Media Marketing Software             #paid   \n",
       "3  Objectives and Key Results (OKR) Software         #stratapp   \n",
       "4               Market Intelligence Software            &facts   \n",
       "\n",
       "    seller_website_c                                      description_c  \\\n",
       "0       hashback.app  #back for record your screen, share it with yo...   \n",
       "1  diesesoftware.com  #diese is accessible from any web browser, and...   \n",
       "2    hashtagpaid.com  #paid is a creator marketplace that connects v...   \n",
       "3   stratappsaas.com  #stratapp is a simple management app where ind...   \n",
       "4       andfacts.com  &facts gives brands access to market insights ...   \n",
       "\n",
       "                          product_category_c  \n",
       "0          screen and video capture software  \n",
       "1                   performing arts software  \n",
       "2            social media marketing software  \n",
       "3  objectives and key results (okr) software  \n",
       "4               market intelligence software  "
      ]
     },
     "execution_count": 44,
     "metadata": {},
     "output_type": "execute_result"
    }
   ],
   "source": [
    "# Examine cleaned data frame\n",
    "\n",
    "df.head()"
   ]
  },
  {
   "cell_type": "markdown",
   "metadata": {},
   "source": [
    "## Fuzzy matching"
   ]
  },
  {
   "cell_type": "code",
   "execution_count": 45,
   "metadata": {
    "execution": {
     "iopub.execute_input": "2025-06-10T19:29:30.747917Z",
     "iopub.status.busy": "2025-06-10T19:29:30.747521Z",
     "iopub.status.idle": "2025-06-10T19:29:30.757510Z",
     "shell.execute_reply": "2025-06-10T19:29:30.756697Z",
     "shell.execute_reply.started": "2025-06-10T19:29:30.747887Z"
    },
    "trusted": true
   },
   "outputs": [],
   "source": [
    "# Helper function to generate a pandas df of combinations\n",
    "\n",
    "def generate_combinations_df(df, n=5):\n",
    "    \"\"\"\n",
    "    Generate pairwise combinations of rows from the input DataFrame.\n",
    "\n",
    "    For each row, combinations are generated with the n preceding and n following\n",
    "    rows, avoiding self-combinations and duplicate pairs.\n",
    "\n",
    "    Args:\n",
    "        df (pd.DataFrame): DataFrame where first column (typically product name) is\n",
    "            alphabetically sorted and free of exact duplicates.\n",
    "        window_size (int): Number of rows above and below to consider for combinations.\n",
    "\n",
    "    Returns:\n",
    "        combinations_df (pd.DataFrame): DataFrame containing all unique combinations of rows\n",
    "        within window range, with columns from both rows suffixed with _1 and _2.\n",
    "    \"\"\"\n",
    "    rows = [tuple(row) for row in df.itertuples(index=False)]\n",
    "    combinations = set()\n",
    "\n",
    "    # Generate combinations\n",
    "    for i, row in enumerate(rows):\n",
    "    \n",
    "        start = max(0, i - n)\n",
    "        end = min(len(rows), i + n + 1)\n",
    "        neighbours = rows[start:end]\n",
    "    \n",
    "        for neighbour in neighbours:\n",
    "            if row[0] != neighbour[0]:  # avoid self-combinations\n",
    "                if row[0] < neighbour[0]:  # order combinations alphabetically\n",
    "                    combination = (row, neighbour)\n",
    "                else:\n",
    "                    combination = (neighbour, row)\n",
    "                combinations.add(combination)\n",
    "\n",
    "    # Organise results into array\n",
    "    data_for_df = []\n",
    "    for row1, row2 in combinations:\n",
    "        combined_row = list(row1) + list(row2)\n",
    "        data_for_df.append(combined_row)\n",
    "\n",
    "    # Create list of new column names\n",
    "    original_columns = df.columns.tolist()\n",
    "    new_columns = []\n",
    "    for col in original_columns:\n",
    "        new_columns.append(f'{col}_1')\n",
    "    for col in original_columns:\n",
    "        new_columns.append(f'{col}_2')\n",
    "\n",
    "    # Store combinations into data frame\n",
    "    combinations_df = pd.DataFrame(data_for_df, columns=new_columns)\n",
    "\n",
    "    # Sort using first column and reset index\n",
    "    sort_cols = [f'{original_columns[0]}_1', f'{original_columns[0]}_2']\n",
    "    combinations_df.sort_values(by=sort_cols, inplace=True)\n",
    "    combinations_df.reset_index(drop=True, inplace=True)\n",
    "    \n",
    "    return combinations_df"
   ]
  },
  {
   "cell_type": "code",
   "execution_count": 46,
   "metadata": {
    "execution": {
     "iopub.execute_input": "2025-06-10T19:29:30.758898Z",
     "iopub.status.busy": "2025-06-10T19:29:30.758589Z",
     "iopub.status.idle": "2025-06-10T19:29:33.686994Z",
     "shell.execute_reply": "2025-06-10T19:29:33.686173Z",
     "shell.execute_reply.started": "2025-06-10T19:29:30.758876Z"
    },
    "trusted": true
   },
   "outputs": [],
   "source": [
    "# Generate combinations of software products for later comparison\n",
    "\n",
    "columns_to_keep = [\n",
    "    'product_name_c',\n",
    "    'seller_website_c',\n",
    "    'description_c',\n",
    "    'product_category_c',\n",
    "]\n",
    "\n",
    "combinations_df = generate_combinations_df(df[columns_to_keep])"
   ]
  },
  {
   "cell_type": "code",
   "execution_count": 47,
   "metadata": {
    "execution": {
     "iopub.execute_input": "2025-06-10T19:29:33.688300Z",
     "iopub.status.busy": "2025-06-10T19:29:33.688020Z",
     "iopub.status.idle": "2025-06-10T19:29:33.693751Z",
     "shell.execute_reply": "2025-06-10T19:29:33.693012Z",
     "shell.execute_reply.started": "2025-06-10T19:29:33.688274Z"
    },
    "trusted": true
   },
   "outputs": [],
   "source": [
    "# Helper function to compute similarity score between two strings\n",
    "\n",
    "def safe_similarity(a, b):\n",
    "    \"\"\"\n",
    "    Compute fuzzy token sort ratio similarity between two values safely.\n",
    "    Handles missing values by returning None if either input is NaN.\n",
    "\n",
    "    Args:\n",
    "        a (str or NaN): First string to compare.\n",
    "        b (str or NaN): Second string to compare.\n",
    "\n",
    "    Returns:\n",
    "        int or None: Similarity score (0-100) or None if either input is missing.\n",
    "    \"\"\"\n",
    "    if pd.isna(a) or pd.isna(b):\n",
    "        return None\n",
    "    return rfuzz.token_sort_ratio(str(a), str(b))"
   ]
  },
  {
   "cell_type": "code",
   "execution_count": 48,
   "metadata": {
    "execution": {
     "iopub.execute_input": "2025-06-10T19:29:33.694976Z",
     "iopub.status.busy": "2025-06-10T19:29:33.694713Z",
     "iopub.status.idle": "2025-06-10T19:29:33.722980Z",
     "shell.execute_reply": "2025-06-10T19:29:33.722049Z",
     "shell.execute_reply.started": "2025-06-10T19:29:33.694953Z"
    },
    "trusted": true
   },
   "outputs": [],
   "source": [
    "# Helper function to add similarity score between two columns to df\n",
    "\n",
    "def add_similarity_column(df, columns):\n",
    "    \"\"\"\n",
    "    Add a new column to the DataFrame with fuzzy similarity scores between two existing columns.\n",
    "\n",
    "    Args:\n",
    "        df (pd.DataFrame): The DataFrame containing the data.\n",
    "        columns (tuple): A tuple of (col1, col2, out_col) where:\n",
    "            - col1 (str): Name of the first input column.\n",
    "            - col2 (str): Name of the second input column.\n",
    "            - out_col (str): Name of the output column to store similarity scores.\n",
    "\n",
    "    Returns:\n",
    "        pd.DataFrame: The DataFrame with the new similarity column added.\n",
    "    \"\"\"\n",
    "    col1, col2, out_col = columns\n",
    "    df[out_col] = df.apply(lambda row: safe_similarity(row[col1], row[col2]), axis=1)\n",
    "    return df"
   ]
  },
  {
   "cell_type": "code",
   "execution_count": 49,
   "metadata": {
    "execution": {
     "iopub.execute_input": "2025-06-10T19:29:33.724493Z",
     "iopub.status.busy": "2025-06-10T19:29:33.724152Z",
     "iopub.status.idle": "2025-06-10T19:29:50.336410Z",
     "shell.execute_reply": "2025-06-10T19:29:50.335310Z",
     "shell.execute_reply.started": "2025-06-10T19:29:33.724461Z"
    },
    "trusted": true
   },
   "outputs": [
    {
     "name": "stderr",
     "output_type": "stream",
     "text": [
      "2025-06-10 21:21:11,922 - INFO - Computing similarity between products...\n",
      "2025-06-10 21:21:27,432 - INFO - 389845 rows processed in 15.5 seconds\n"
     ]
    }
   ],
   "source": [
    "# Compute similarity scores between pairs of products and time processing\n",
    "\n",
    "start = time.time()\n",
    "\n",
    "logging.info('Computing similarity between products...')\n",
    "\n",
    "columns_to_compare = [\n",
    "    ('product_name_c_1', 'product_name_c_2', 'name_similarity'),\n",
    "    ('seller_website_c_1', 'seller_website_c_2', 'url_similarity'),\n",
    "    ('description_c_1', 'description_c_2', 'description_similarity'),\n",
    "    ('product_category_c_1', 'product_category_c_2', 'category_similarity'),\n",
    "]\n",
    "\n",
    "for columns in columns_to_compare:\n",
    "    add_similarity_column(combinations_df, columns)\n",
    "\n",
    "end = time.time()\n",
    "\n",
    "logging.info(f'{len(combinations_df)} rows processed in {(end - start):.1f} seconds')"
   ]
  },
  {
   "cell_type": "code",
   "execution_count": 50,
   "metadata": {
    "execution": {
     "iopub.execute_input": "2025-06-10T19:29:50.337593Z",
     "iopub.status.busy": "2025-06-10T19:29:50.337388Z",
     "iopub.status.idle": "2025-06-10T19:29:50.351941Z",
     "shell.execute_reply": "2025-06-10T19:29:50.351003Z",
     "shell.execute_reply.started": "2025-06-10T19:29:50.337576Z"
    },
    "trusted": true
   },
   "outputs": [
    {
     "name": "stderr",
     "output_type": "stream",
     "text": [
      "2025-06-10 21:21:27,450 - INFO - Found 1766 product duplicates based on fuzzing matching scores.\n"
     ]
    }
   ],
   "source": [
    "# Get a list of duplicated products\n",
    "\n",
    "duplicates = combinations_df[\n",
    "    (combinations_df['name_similarity'] > NAME_SCORE_THRESHOLD) &\n",
    "    ((combinations_df['url_similarity'].isna()) | (combinations_df['url_similarity'] > URL_SCORE_THRESHOLD))\n",
    "]\n",
    "\n",
    "logging.info(f'Found {len(duplicates)} product duplicates based on fuzzing matching scores.')"
   ]
  },
  {
   "cell_type": "code",
   "execution_count": 51,
   "metadata": {
    "execution": {
     "iopub.execute_input": "2025-06-10T19:29:50.353213Z",
     "iopub.status.busy": "2025-06-10T19:29:50.352935Z",
     "iopub.status.idle": "2025-06-10T19:29:50.375175Z",
     "shell.execute_reply": "2025-06-10T19:29:50.374248Z",
     "shell.execute_reply.started": "2025-06-10T19:29:50.353189Z"
    },
    "trusted": true
   },
   "outputs": [
    {
     "data": {
      "text/html": [
       "<div>\n",
       "<style scoped>\n",
       "    .dataframe tbody tr th:only-of-type {\n",
       "        vertical-align: middle;\n",
       "    }\n",
       "\n",
       "    .dataframe tbody tr th {\n",
       "        vertical-align: top;\n",
       "    }\n",
       "\n",
       "    .dataframe thead th {\n",
       "        text-align: right;\n",
       "    }\n",
       "</style>\n",
       "<table border=\"1\" class=\"dataframe\">\n",
       "  <thead>\n",
       "    <tr style=\"text-align: right;\">\n",
       "      <th></th>\n",
       "      <th>product_name_c_1</th>\n",
       "      <th>product_name_c_2</th>\n",
       "      <th>name_similarity</th>\n",
       "      <th>seller_website_c_1</th>\n",
       "      <th>seller_website_c_2</th>\n",
       "      <th>url_similarity</th>\n",
       "    </tr>\n",
       "  </thead>\n",
       "  <tbody>\n",
       "    <tr>\n",
       "      <th>67</th>\n",
       "      <td>.net core</td>\n",
       "      <td>.netcore</td>\n",
       "      <td>94.117647</td>\n",
       "      <td>docs.microsoft.com/en-us/dotnet/core</td>\n",
       "      <td>NaN</td>\n",
       "      <td>NaN</td>\n",
       "    </tr>\n",
       "    <tr>\n",
       "      <th>245</th>\n",
       "      <td>1010 data</td>\n",
       "      <td>1010data</td>\n",
       "      <td>94.117647</td>\n",
       "      <td>1010data.com</td>\n",
       "      <td>NaN</td>\n",
       "      <td>NaN</td>\n",
       "    </tr>\n",
       "    <tr>\n",
       "      <th>1813</th>\n",
       "      <td>3d product configurator</td>\n",
       "      <td>3d source product configurator</td>\n",
       "      <td>86.792453</td>\n",
       "      <td>cl3ver.com</td>\n",
       "      <td>NaN</td>\n",
       "      <td>NaN</td>\n",
       "    </tr>\n",
       "    <tr>\n",
       "      <th>2405</th>\n",
       "      <td>4mat</td>\n",
       "      <td>4mata</td>\n",
       "      <td>88.888889</td>\n",
       "      <td>NaN</td>\n",
       "      <td>4mata.com</td>\n",
       "      <td>NaN</td>\n",
       "    </tr>\n",
       "    <tr>\n",
       "      <th>2500</th>\n",
       "      <td>4screen</td>\n",
       "      <td>4screens</td>\n",
       "      <td>93.333333</td>\n",
       "      <td>4screen.com</td>\n",
       "      <td>NaN</td>\n",
       "      <td>NaN</td>\n",
       "    </tr>\n",
       "    <tr>\n",
       "      <th>3165</th>\n",
       "      <td>a cloud guru</td>\n",
       "      <td>a cloud guru lms</td>\n",
       "      <td>85.714286</td>\n",
       "      <td>acloud.guru</td>\n",
       "      <td>NaN</td>\n",
       "      <td>NaN</td>\n",
       "    </tr>\n",
       "    <tr>\n",
       "      <th>4785</th>\n",
       "      <td>accelo</td>\n",
       "      <td>accelops</td>\n",
       "      <td>85.714286</td>\n",
       "      <td>accelo.com</td>\n",
       "      <td>NaN</td>\n",
       "      <td>NaN</td>\n",
       "    </tr>\n",
       "    <tr>\n",
       "      <th>5364</th>\n",
       "      <td>accountberry</td>\n",
       "      <td>accounter</td>\n",
       "      <td>85.714286</td>\n",
       "      <td>accountberry.com</td>\n",
       "      <td>NaN</td>\n",
       "      <td>NaN</td>\n",
       "    </tr>\n",
       "    <tr>\n",
       "      <th>6726</th>\n",
       "      <td>actian</td>\n",
       "      <td>actiance</td>\n",
       "      <td>85.714286</td>\n",
       "      <td>NaN</td>\n",
       "      <td>NaN</td>\n",
       "      <td>NaN</td>\n",
       "    </tr>\n",
       "    <tr>\n",
       "      <th>6930</th>\n",
       "      <td>actionvfx</td>\n",
       "      <td>actionx</td>\n",
       "      <td>87.500000</td>\n",
       "      <td>actionvfx.com</td>\n",
       "      <td>NaN</td>\n",
       "      <td>NaN</td>\n",
       "    </tr>\n",
       "  </tbody>\n",
       "</table>\n",
       "</div>"
      ],
      "text/plain": [
       "             product_name_c_1                product_name_c_2  \\\n",
       "67                  .net core                        .netcore   \n",
       "245                 1010 data                        1010data   \n",
       "1813  3d product configurator  3d source product configurator   \n",
       "2405                     4mat                           4mata   \n",
       "2500                  4screen                        4screens   \n",
       "3165             a cloud guru                a cloud guru lms   \n",
       "4785                   accelo                        accelops   \n",
       "5364             accountberry                       accounter   \n",
       "6726                   actian                        actiance   \n",
       "6930                actionvfx                         actionx   \n",
       "\n",
       "      name_similarity                    seller_website_c_1  \\\n",
       "67          94.117647  docs.microsoft.com/en-us/dotnet/core   \n",
       "245         94.117647                          1010data.com   \n",
       "1813        86.792453                            cl3ver.com   \n",
       "2405        88.888889                                   NaN   \n",
       "2500        93.333333                           4screen.com   \n",
       "3165        85.714286                           acloud.guru   \n",
       "4785        85.714286                            accelo.com   \n",
       "5364        85.714286                      accountberry.com   \n",
       "6726        85.714286                                   NaN   \n",
       "6930        87.500000                         actionvfx.com   \n",
       "\n",
       "     seller_website_c_2  url_similarity  \n",
       "67                  NaN             NaN  \n",
       "245                 NaN             NaN  \n",
       "1813                NaN             NaN  \n",
       "2405          4mata.com             NaN  \n",
       "2500                NaN             NaN  \n",
       "3165                NaN             NaN  \n",
       "4785                NaN             NaN  \n",
       "5364                NaN             NaN  \n",
       "6726                NaN             NaN  \n",
       "6930                NaN             NaN  "
      ]
     },
     "execution_count": 51,
     "metadata": {},
     "output_type": "execute_result"
    }
   ],
   "source": [
    "# Examine duplicates\n",
    "\n",
    "columns_to_display = [\n",
    "    'product_name_c_1',\n",
    "    'product_name_c_2',\n",
    "    'name_similarity',\n",
    "    'seller_website_c_1',\n",
    "    'seller_website_c_2',\n",
    "    'url_similarity',\n",
    "]\n",
    "\n",
    "duplicates[columns_to_display].head(10)"
   ]
  },
  {
   "cell_type": "code",
   "execution_count": 52,
   "metadata": {
    "execution": {
     "iopub.execute_input": "2025-06-10T19:29:50.376700Z",
     "iopub.status.busy": "2025-06-10T19:29:50.376272Z",
     "iopub.status.idle": "2025-06-10T19:29:50.424951Z",
     "shell.execute_reply": "2025-06-10T19:29:50.424141Z",
     "shell.execute_reply.started": "2025-06-10T19:29:50.376658Z"
    },
    "trusted": true
   },
   "outputs": [
    {
     "name": "stderr",
     "output_type": "stream",
     "text": [
      "2025-06-10 21:21:27,529 - INFO - Removed 1766 duplicates based on fuzzy matching scores.\n"
     ]
    }
   ],
   "source": [
    "# Drop duplicates based on fuzzy matching results\n",
    "\n",
    "to_drop = list(duplicates['product_name_c_2'])\n",
    "deduplicated_df = df[~df['product_name_c'].isin(to_drop)]\n",
    "\n",
    "logging.info(f'Removed {len(to_drop)} duplicates based on fuzzy matching scores.')"
   ]
  },
  {
   "cell_type": "markdown",
   "metadata": {},
   "source": [
    "## Save results"
   ]
  },
  {
   "cell_type": "code",
   "execution_count": 53,
   "metadata": {
    "execution": {
     "iopub.execute_input": "2025-06-10T19:29:50.426239Z",
     "iopub.status.busy": "2025-06-10T19:29:50.426002Z",
     "iopub.status.idle": "2025-06-10T19:29:50.431326Z",
     "shell.execute_reply": "2025-06-10T19:29:50.430364Z",
     "shell.execute_reply.started": "2025-06-10T19:29:50.426220Z"
    },
    "trusted": true
   },
   "outputs": [],
   "source": [
    "# Helper function to save file to CSV\n",
    "\n",
    "def save_to_csv(df, file_path, columns_to_keep):\n",
    "    \"\"\"Save a DataFrame to a CSV, keeping only specified columns.\"\"\"\n",
    "    \n",
    "    os.makedirs(os.path.dirname(file_path), exist_ok=True)\n",
    "    df.to_csv(file_path, index=False, columns=columns_to_keep)\n",
    "    \n",
    "    logging.info(f'File successfully saved to {file_path}')"
   ]
  },
  {
   "cell_type": "code",
   "execution_count": 54,
   "metadata": {
    "execution": {
     "iopub.execute_input": "2025-06-10T19:29:50.450906Z",
     "iopub.status.busy": "2025-06-10T19:29:50.450579Z",
     "iopub.status.idle": "2025-06-10T19:30:02.081647Z",
     "shell.execute_reply": "2025-06-10T19:30:02.080786Z",
     "shell.execute_reply.started": "2025-06-10T19:29:50.450878Z"
    },
    "trusted": true
   },
   "outputs": [
    {
     "name": "stderr",
     "output_type": "stream",
     "text": [
      "2025-06-10 21:21:27,586 - INFO - File successfully saved to output/duplicates.csv\n",
      "2025-06-10 21:21:34,866 - INFO - File successfully saved to output/scores.csv\n",
      "2025-06-10 21:21:35,459 - INFO - File successfully saved to output/duplicated_product_catalogue.csv\n",
      "2025-06-10 21:21:36,041 - INFO - File successfully saved to output/master_product_catalogue.csv\n"
     ]
    }
   ],
   "source": [
    "# Save product catalog to csv\n",
    "\n",
    "scores_columns = [\n",
    "    'product_name_c_1',\n",
    "    'product_name_c_2',\n",
    "    'name_similarity',\n",
    "    'seller_website_c_1',\n",
    "    'seller_website_c_2',\n",
    "    'url_similarity',\n",
    "    'description_c_1',\n",
    "    'description_c_2',\n",
    "    'description_similarity',\n",
    "    'product_category_c_1',\n",
    "    'product_category_c_2',\n",
    "    'category_similarity',\n",
    "]\n",
    "\n",
    "catalogue_columns_to_keep = [\n",
    "    'product_name',\n",
    "    'seller_website',\n",
    "    'description',\n",
    "    'product_category',\n",
    "]\n",
    "\n",
    "duplicates = pd.DataFrame(duplicates)\n",
    "\n",
    "save_to_csv(duplicates, 'output/duplicates.csv', scores_columns)\n",
    "save_to_csv(combinations_df, 'output/scores.csv', scores_columns)\n",
    "save_to_csv(df, 'output/duplicated_product_catalogue.csv', catalogue_columns_to_keep)\n",
    "save_to_csv(deduplicated_df, 'output/master_product_catalogue.csv', catalogue_columns_to_keep)"
   ]
  },
  {
   "cell_type": "markdown",
   "metadata": {},
   "source": [
    "## Limitations"
   ]
  },
  {
   "cell_type": "code",
   "execution_count": 55,
   "metadata": {
    "execution": {
     "iopub.execute_input": "2025-06-10T19:30:02.082630Z",
     "iopub.status.busy": "2025-06-10T19:30:02.082417Z",
     "iopub.status.idle": "2025-06-10T19:30:02.088918Z",
     "shell.execute_reply": "2025-06-10T19:30:02.088060Z",
     "shell.execute_reply.started": "2025-06-10T19:30:02.082613Z"
    },
    "trusted": true
   },
   "outputs": [
    {
     "data": {
      "text/plain": [
       "46.51162790697675"
      ]
     },
     "execution_count": 55,
     "metadata": {},
     "output_type": "execute_result"
    }
   ],
   "source": [
    "rfuzz.token_sort_ratio('amazon ses', 'amazon simple email service (ses)')"
   ]
  },
  {
   "cell_type": "code",
   "execution_count": 56,
   "metadata": {
    "execution": {
     "iopub.execute_input": "2025-06-10T19:30:02.090228Z",
     "iopub.status.busy": "2025-06-10T19:30:02.089958Z",
     "iopub.status.idle": "2025-06-10T19:30:02.104676Z",
     "shell.execute_reply": "2025-06-10T19:30:02.103836Z",
     "shell.execute_reply.started": "2025-06-10T19:30:02.090200Z"
    },
    "trusted": true
   },
   "outputs": [
    {
     "data": {
      "text/plain": [
       "66.66666666666667"
      ]
     },
     "execution_count": 56,
     "metadata": {},
     "output_type": "execute_result"
    }
   ],
   "source": [
    "rfuzz.token_sort_ratio('.net', '.net 4.5')"
   ]
  },
  {
   "cell_type": "code",
   "execution_count": 57,
   "metadata": {
    "execution": {
     "iopub.execute_input": "2025-06-10T19:30:02.106239Z",
     "iopub.status.busy": "2025-06-10T19:30:02.105710Z",
     "iopub.status.idle": "2025-06-10T19:30:02.121601Z",
     "shell.execute_reply": "2025-06-10T19:30:02.120734Z",
     "shell.execute_reply.started": "2025-06-10T19:30:02.106215Z"
    },
    "trusted": true
   },
   "outputs": [
    {
     "data": {
      "text/plain": [
       "80.35714285714286"
      ]
     },
     "execution_count": 57,
     "metadata": {},
     "output_type": "execute_result"
    }
   ],
   "source": [
    "rfuzz.token_sort_ratio(\n",
    "    '1-Click Ready Tool Windows process heat map on Windows 2012 R2',\n",
    "    '1-Click Ready Windows Tool Weka on Windows 2012 R2',\n",
    ")"
   ]
  }
 ],
 "metadata": {
  "kaggle": {
   "accelerator": "none",
   "dataSources": [
    {
     "datasetId": 7624465,
     "sourceId": 12109981,
     "sourceType": "datasetVersion"
    }
   ],
   "dockerImageVersionId": 31040,
   "isGpuEnabled": false,
   "isInternetEnabled": true,
   "language": "python",
   "sourceType": "notebook"
  },
  "kernelspec": {
   "display_name": ".venv",
   "language": "python",
   "name": "python3"
  },
  "language_info": {
   "codemirror_mode": {
    "name": "ipython",
    "version": 3
   },
   "file_extension": ".py",
   "mimetype": "text/x-python",
   "name": "python",
   "nbconvert_exporter": "python",
   "pygments_lexer": "ipython3",
   "version": "3.11.3"
  }
 },
 "nbformat": 4,
 "nbformat_minor": 4
}
